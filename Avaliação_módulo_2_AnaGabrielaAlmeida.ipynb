{
  "nbformat": 4,
  "nbformat_minor": 0,
  "metadata": {
    "kernelspec": {
      "display_name": "Python 3",
      "language": "python",
      "name": "python3"
    },
    "language_info": {
      "codemirror_mode": {
        "name": "ipython",
        "version": 3
      },
      "file_extension": ".py",
      "mimetype": "text/x-python",
      "name": "python",
      "nbconvert_exporter": "python",
      "pygments_lexer": "ipython3",
      "version": "3.8.3"
    },
    "colab": {
      "name": "Cópia de Cópia de Avaliação módulo 2 (enunciado).ipynb",
      "provenance": [],
      "collapsed_sections": []
    }
  },
  "cells": [
    {
      "cell_type": "markdown",
      "metadata": {
        "id": "hzLd6-OZjgmw"
      },
      "source": [
        "# Module 2 Assessment - Degree Data Science\n",
        "\n",
        "## Due date: ideally by November 21st (SUNDAY, 23:59)\n",
        "\n",
        "In case you have any issues, delivery date at our Class Software is set for Monday November 22th at 23:59.\n",
        "_________\n",
        "\n",
        "You must build a clocking system for your company.\n",
        "The system bust have a navegation interface, in which the employee can enter the time one started to work (typying the hour, minute and second); the time one clocked out for lunch break, when clocked back in from lunch break and the time one left for the day.\n",
        "\n",
        "Therefore, to make it clear: we have 4 clocking times:\n",
        "\n",
        "- entrance (at the beginning of the day);\n",
        "- exit (left for lunch break);\n",
        "- entrance (got back from lunch break);\n",
        "- exit (end of workday).\n",
        "\n",
        "Requirements:\n",
        "\n",
        "- Requirement #1 - The minimal interval is 1h.\n",
        "In case the employee tries to clock back in from lunch without completing one full hour, let him now and block him from clocking in!\n",
        "- Requirement #2 - At the end of workday, you must let the user know the exact amount of one's workday (excluding the lunch break!).\n",
        "- Requirement #3 - In case the employee worked for more than 10 hours, give the employee a scold!\n",
        "- Requirement #4 - It is required that you create a Class for this project.\n",
        "The way in which you're going to model attributes, methods, etc. is entirely up to you. I'd strongly suggest you to inspire at previous exercises (ex.4, project for module 1, `Hour` class, etc.)\n",
        "\n",
        "\n",
        "Assessed topics:\n",
        "\n",
        "- Object-oriented programming;\n",
        "- Classes;\n",
        "- Attributes;\n",
        "- Methods;\n",
        "- Builder;\n",
        "- Magic Methods;\n",
        "\n",
        "Optional:\n",
        "- Inheritance;\n",
        "- Polymorphism;\n",
        "- Libraries."
      ]
    },
    {
      "cell_type": "code",
      "metadata": {
        "id": "Tmey-AHejgnF"
      },
      "source": [
        "class Horario:\n",
        "    '''\n",
        "    classe pra representar um horario com hora, minuto e segundo\n",
        "    '''\n",
        "    \n",
        "    def __init__(self, hour, minute, sec):\n",
        "        \n",
        "        self.h = int(hour)\n",
        "        self.m = int(minute)\n",
        "        self.s = int(sec)\n",
        "\n",
        "    def to_minutes(self):\n",
        "        minutes = float(self.m)\n",
        "        minutes += self.h*60\n",
        "        minutes += self.s/60\n",
        "        return minutes\n",
        "        \n",
        "        \n",
        "    def __repr__(self):\n",
        "        \n",
        "        return f\"{self.h:02d}:{self.m:02d}:{self.s:02d}\"\n",
        "    \n",
        "    \n",
        "    def __str__(self):\n",
        "        \n",
        "        return f\"{self.h:02d}:{self.m:02d}:{self.s:02d}\"\n",
        "            \n",
        "\n",
        "    def __add__(self, other):\n",
        "        \n",
        "        ho = self.h + other.h\n",
        "        mi = self.m + other.m\n",
        "        se = self.s + other.s\n",
        "\n",
        "        while se >= 60:\n",
        "            mi = mi + 1\n",
        "            se = se - 60\n",
        "\n",
        "        while mi >= 60:\n",
        "            ho = ho + 1\n",
        "            mi = mi - 60\n",
        "\n",
        "        while ho >= 24:\n",
        "            ho = ho - 24\n",
        "\n",
        "        return Horario(ho, mi, se)\n",
        "    \n",
        "    \n",
        "    def __gt__(self, other):\n",
        "        \n",
        "        hour1 = self\n",
        "        hour2 = other\n",
        "\n",
        "        if self.h != other.h:\n",
        "\n",
        "          return self.h > other.h\n",
        "\n",
        "        elif self.m != other.m:\n",
        "          return self.m > other.m\n",
        "\n",
        "        elif self.s != other.s:\n",
        "          return self.s > other.s\n"
      ],
      "execution_count": null,
      "outputs": []
    },
    {
      "cell_type": "code",
      "metadata": {
        "id": "DYVTw59ZZQOs"
      },
      "source": [
        "class User:\n",
        "  '''\n",
        "  classe para representar usuário, que é funcionário de uma empresa e precisa bater o ponto\n",
        "  \n",
        "  '''\n",
        "  def __init__(self):\n",
        "\n",
        "    self.start_time = None\n",
        "    self.break_start = None\n",
        "    self.break_exit = None\n",
        "    self.exit_time = None\n",
        "  \n",
        "  def clock_in(self):\n",
        "\n",
        "    start_time = input(\"Qual é o início do seu expediente? Insira no formato H:M:S: \").split(':')\n",
        "\n",
        "    self.start_time = Horario(*start_time)\n",
        "\n",
        "  def go_on_break(self):\n",
        "\n",
        "    break_start = input(\"Qual é o início do seu horário de almoço? Insira no formato H:M:S: \").split(':')\n",
        "\n",
        "    self.break_start = Horario(*break_start)\n",
        "\n",
        "  def return_from_break(self):\n",
        "\n",
        "    break_exit = input(\"Qual é o horário do seu retorno do almoço? Insira no formato H:M:S: \").split(':')\n",
        "\n",
        "    hour = Horario(*break_exit)\n",
        "\n",
        "    if hour.to_minutes() - self.break_start.to_minutes() < 60:\n",
        "\n",
        "      print(f\"Você não fez 1 hora de almoço, não pode bater o ponto.\")\n",
        "    \n",
        "    else:\n",
        "      self.break_exit = hour\n",
        "  \n",
        "  def clock_out(self):\n",
        "\n",
        "    exit_time = input(\"Qual é o horário do fim do seu expediente? Insira no formato H:M:S: \").split(':')\n",
        "\n",
        "    exit_hour = Horario(*exit_time)\n",
        "    \n",
        "    total_hours = exit_hour.to_minutes() - self.break_exit.to_minutes() + self.break_start.to_minutes() - self.start_time.to_minutes()\n",
        "\n",
        "\n",
        "    if total_hours >= 600:\n",
        "       \n",
        "       print(f\"Você trabalhou {total_hours} minutos, foi tempo demais, tá louco?! Vá falar no RH para contar hora-extra.\")\n",
        "   \n",
        "    else:\n",
        "      self.exit_time = exit_hour\n",
        "\n",
        "      print(f\"Hoje você trabalhou {total_hours} minutos. Parabéns e bom descanso!\")\n"
      ],
      "execution_count": null,
      "outputs": []
    },
    {
      "cell_type": "code",
      "metadata": {
        "colab": {
          "base_uri": "https://localhost:8080/"
        },
        "id": "2R2OptGNg5PL",
        "outputId": "6f696b53-64e8-41ea-cfe0-21e31c6f4d20"
      },
      "source": [
        "user = User()\n",
        "user.clock_in()"
      ],
      "execution_count": null,
      "outputs": [
        {
          "name": "stdout",
          "output_type": "stream",
          "text": [
            "Qual é o início do seu expediente? Insira no formato H:M:S: 08:00:00\n"
          ]
        }
      ]
    },
    {
      "cell_type": "code",
      "metadata": {
        "colab": {
          "base_uri": "https://localhost:8080/"
        },
        "id": "xPpNAVcUq51k",
        "outputId": "27774784-79f7-4625-ae6c-046325aa30da"
      },
      "source": [
        "user.go_on_break()"
      ],
      "execution_count": null,
      "outputs": [
        {
          "name": "stdout",
          "output_type": "stream",
          "text": [
            "Qual é o início do seu horário de almoço? Insira no formato H:M:S: 13:30:55\n"
          ]
        }
      ]
    },
    {
      "cell_type": "code",
      "metadata": {
        "colab": {
          "base_uri": "https://localhost:8080/"
        },
        "id": "eNJtrVovrAl6",
        "outputId": "d5548e51-b29f-477e-8c8b-9490b54a4a64"
      },
      "source": [
        "user.return_from_break()"
      ],
      "execution_count": null,
      "outputs": [
        {
          "output_type": "stream",
          "name": "stdout",
          "text": [
            "Qual é o horário do seu retorno do almoço? Insira no formato H:M:S: 14:00:00\n",
            "Você não fez 1 hora de almoço, não pode bater o ponto.\n"
          ]
        }
      ]
    },
    {
      "cell_type": "code",
      "metadata": {
        "colab": {
          "base_uri": "https://localhost:8080/"
        },
        "id": "_mz_lXNArWYR",
        "outputId": "cb24bbb1-73da-47c7-d5f5-6f08c661fe9a"
      },
      "source": [
        "user.return_from_break()"
      ],
      "execution_count": null,
      "outputs": [
        {
          "name": "stdout",
          "output_type": "stream",
          "text": [
            "Qual é o horário do seu retorno do almoço? Insira no formato H:M:S: 14:31:00\n"
          ]
        }
      ]
    },
    {
      "cell_type": "code",
      "metadata": {
        "colab": {
          "base_uri": "https://localhost:8080/"
        },
        "id": "dhfJbgyHrcx_",
        "outputId": "21160961-9010-42de-c643-4e75f5aea488"
      },
      "source": [
        "user.clock_out()"
      ],
      "execution_count": null,
      "outputs": [
        {
          "output_type": "stream",
          "name": "stdout",
          "text": [
            "Qual é o horário do fim do seu expediente? Insira no formato H:M:S: 17:00:30\n",
            "Hoje você trabalhou 480.41666666666663 horas. Parabéns e bom descanso!\n"
          ]
        }
      ]
    }
  ]
}